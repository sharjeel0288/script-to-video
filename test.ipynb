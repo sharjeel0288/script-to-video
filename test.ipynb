{
 "cells": [
  {
   "cell_type": "code",
   "execution_count": 39,
   "metadata": {},
   "outputs": [
    {
     "name": "stderr",
     "output_type": "stream",
     "text": [
      "[nltk_data] Downloading package punkt to\n",
      "[nltk_data]     C:\\Users\\HP\\AppData\\Roaming\\nltk_data...\n",
      "[nltk_data]   Package punkt is already up-to-date!\n",
      "[nltk_data] Downloading package averaged_perceptron_tagger to\n",
      "[nltk_data]     C:\\Users\\HP\\AppData\\Roaming\\nltk_data...\n",
      "[nltk_data]   Package averaged_perceptron_tagger is already up-to-\n",
      "[nltk_data]       date!\n"
     ]
    },
    {
     "name": "stdout",
     "output_type": "stream",
     "text": [
      "[]\n",
      "No images found for sentence 1\n",
      "[]\n",
      "No images found for sentence 2\n",
      "[]\n",
      "No images found for sentence 3\n",
      "[]\n",
      "No images found for sentence 4\n"
     ]
    }
   ],
   "source": [
    "import requests\n",
    "import nltk\n",
    "import spacy\n",
    "from bs4 import BeautifulSoup\n",
    "import urllib.parse\n",
    "from PIL import Image\n",
    "from torchvision.utils import make_grid\n",
    "from torchvision.transforms import ToTensor, ToPILImage, Resize\n",
    "\n",
    "nltk.download('punkt')\n",
    "nltk.download('averaged_perceptron_tagger')\n",
    "\n",
    "nlp = spacy.load('en_core_web_sm')\n",
    "\n",
    "\n",
    "import base64\n",
    "\n",
    "def download_image(url, filename):\n",
    "    response = requests.get(url)\n",
    "    if response.status_code == 200:\n",
    "        content_type = response.headers.get('Content-Type')\n",
    "        if content_type and content_type.startswith('data:image'):\n",
    "            image_data = response.content.split(b';base64,', 1)[1]\n",
    "            with open(filename, 'wb') as f:\n",
    "                f.write(base64.b64decode(image_data))\n",
    "        else:\n",
    "            with open(filename, 'wb') as f:\n",
    "                f.write(response.content)\n",
    "        print(f\"Downloaded {filename}\")\n",
    "        return True\n",
    "    else:\n",
    "        print(f\"Failed to download {filename}\")\n",
    "        return False\n",
    "\n",
    "\n",
    "def get_keywords(sentence):\n",
    "    tokens = nltk.word_tokenize(sentence)\n",
    "    tagged_tokens = nltk.pos_tag(tokens)\n",
    "\n",
    "    keywords = []\n",
    "    for token, tag in tagged_tokens:\n",
    "        if tag.startswith('NN'):  # Consider nouns as keywords\n",
    "            keywords.append(token)\n",
    "\n",
    "    return keywords\n",
    "\n",
    "\n",
    "def get_base64_image_urls(sentence, num_images):\n",
    "    keywords = get_keywords(sentence)\n",
    "    if not keywords:\n",
    "        return []\n",
    "\n",
    "    search_query = ' '.join(keywords)\n",
    "    search_query = urllib.parse.quote(search_query)\n",
    "    search_url = f'https://www.google.com/search?q={search_query}&tbm=isch&hl=en&tbs=isz:l&sa=X&ved=0CAIQpwVqFwoTCPjenZDHz_8CFQAAAAAdAAAAABAE&biw=1519&bih=714'\n",
    "    headers = {\n",
    "        \"User-Agent\": \"Mozilla/5.0 (Windows NT 10.0; Win64; x64) AppleWebKit/537.36 (KHTML, like Gecko) Chrome/91.0.4472.124 Safari/537.36\"\n",
    "    }\n",
    "\n",
    "    response = requests.get(search_url, headers=headers)\n",
    "    if response.status_code == 200:\n",
    "        soup = BeautifulSoup(response.content, 'html.parser')\n",
    "        image_elements = soup.select('img[data-src]')\n",
    "\n",
    "        base64_image_urls = []\n",
    "        count = 0\n",
    "\n",
    "        for image_element in image_elements:\n",
    "            image_url = image_element['data-src']\n",
    "            if image_url.startswith('data:image/jpeg;base64,'):\n",
    "                base64_image_urls.append(image_url)\n",
    "                count += 1\n",
    "                if count >= num_images:\n",
    "                    break\n",
    "\n",
    "        return base64_image_urls\n",
    "\n",
    "    return []\n",
    "\n",
    "\n",
    "def download_images_collage(sentences, num_images=3, collage_size=(512, 512)):\n",
    "    for i, sentence in enumerate(sentences):\n",
    "        base64_image_urls = get_base64_image_urls(sentence, num_images)\n",
    "        print(base64_image_urls)\n",
    "        if base64_image_urls:\n",
    "            collage_images = []\n",
    "            for j, image_url in enumerate(base64_image_urls):\n",
    "                filename = f\"image_{i + 1}_{j + 1}.jpg\"\n",
    "                if download_image(image_url, filename):\n",
    "                    image = Image.open(filename).convert(\"RGB\")\n",
    "                    image = Resize(collage_size)(image)\n",
    "                    image_tensor = ToTensor()(image)\n",
    "                    collage_images.append(image_tensor)\n",
    "\n",
    "            collage = make_grid(collage_images, padding=10)\n",
    "            collage = ToPILImage()(collage)\n",
    "            collage.save(f\"collage_{i + 1}.jpg\")\n",
    "            print(f\"Saved collage for sentence {i + 1}\")\n",
    "        else:\n",
    "            print(f\"No images found for sentence {i + 1}\")\n",
    "\n",
    "\n",
    "# Example usage\n",
    "sentences = [\n",
    "    'Cricket is believed to have originated in the 16th century in England and is now played in over 100 countries worldwide.',\n",
    "    'The longest recorded cricket match lasted for 10 days.',\n",
    "    'Sachin Tendulkar is considered one of the greatest batsmen in the history of cricket.',\n",
    "    'The Ashes is a famous cricket series played between England and Australia. It originated in 1882 and is one of the oldest rivalries in sports.'\n",
    "]\n",
    "\n",
    "download_images_collage(sentences, num_images=3)\n"
   ]
  },
  {
   "cell_type": "code",
   "execution_count": 52,
   "metadata": {},
   "outputs": [
    {
     "ename": "SessionNotCreatedException",
     "evalue": "Message: session not created: This version of ChromeDriver only supports Chrome version 111\nCurrent browser version is 114.0.5735.134 with binary path C:\\Program Files\\Google\\Chrome\\Application\\chrome.exe\n",
     "output_type": "error",
     "traceback": [
      "\u001b[1;31m---------------------------------------------------------------------------\u001b[0m",
      "\u001b[1;31mSessionNotCreatedException\u001b[0m                Traceback (most recent call last)",
      "\u001b[1;32me:\\ai_ml\\mycode\\test.ipynb Cell 2\u001b[0m in \u001b[0;36m<cell line: 11>\u001b[1;34m()\u001b[0m\n\u001b[0;32m      <a href='vscode-notebook-cell:/e%3A/ai_ml/mycode/test.ipynb#W1sZmlsZQ%3D%3D?line=7'>8</a>\u001b[0m num_images \u001b[39m=\u001b[39m \u001b[39m3\u001b[39m\n\u001b[0;32m     <a href='vscode-notebook-cell:/e%3A/ai_ml/mycode/test.ipynb#W1sZmlsZQ%3D%3D?line=9'>10</a>\u001b[0m \u001b[39m# Configure Selenium webdriver\u001b[39;00m\n\u001b[1;32m---> <a href='vscode-notebook-cell:/e%3A/ai_ml/mycode/test.ipynb#W1sZmlsZQ%3D%3D?line=10'>11</a>\u001b[0m driver \u001b[39m=\u001b[39m webdriver\u001b[39m.\u001b[39;49mChrome()  \u001b[39m# Make sure you have Chrome WebDriver installed and in the system PATH\u001b[39;00m\n\u001b[0;32m     <a href='vscode-notebook-cell:/e%3A/ai_ml/mycode/test.ipynb#W1sZmlsZQ%3D%3D?line=11'>12</a>\u001b[0m driver\u001b[39m.\u001b[39mget(\u001b[39m\"\u001b[39m\u001b[39mhttps://www.google.com/imghp\u001b[39m\u001b[39m\"\u001b[39m)\n\u001b[0;32m     <a href='vscode-notebook-cell:/e%3A/ai_ml/mycode/test.ipynb#W1sZmlsZQ%3D%3D?line=13'>14</a>\u001b[0m \u001b[39m# Find and fill the search bar\u001b[39;00m\n",
      "File \u001b[1;32mc:\\Users\\HP\\AppData\\Local\\Programs\\Python\\Python310\\lib\\site-packages\\selenium\\webdriver\\chrome\\webdriver.py:76\u001b[0m, in \u001b[0;36mWebDriver.__init__\u001b[1;34m(self, executable_path, port, options, service_args, desired_capabilities, service_log_path, chrome_options, keep_alive)\u001b[0m\n\u001b[0;32m     73\u001b[0m \u001b[39mself\u001b[39m\u001b[39m.\u001b[39mservice\u001b[39m.\u001b[39mstart()\n\u001b[0;32m     75\u001b[0m \u001b[39mtry\u001b[39;00m:\n\u001b[1;32m---> 76\u001b[0m     RemoteWebDriver\u001b[39m.\u001b[39;49m\u001b[39m__init__\u001b[39;49m(\n\u001b[0;32m     77\u001b[0m         \u001b[39mself\u001b[39;49m,\n\u001b[0;32m     78\u001b[0m         command_executor\u001b[39m=\u001b[39;49mChromeRemoteConnection(\n\u001b[0;32m     79\u001b[0m             remote_server_addr\u001b[39m=\u001b[39;49m\u001b[39mself\u001b[39;49m\u001b[39m.\u001b[39;49mservice\u001b[39m.\u001b[39;49mservice_url,\n\u001b[0;32m     80\u001b[0m             keep_alive\u001b[39m=\u001b[39;49mkeep_alive),\n\u001b[0;32m     81\u001b[0m         desired_capabilities\u001b[39m=\u001b[39;49mdesired_capabilities)\n\u001b[0;32m     82\u001b[0m \u001b[39mexcept\u001b[39;00m \u001b[39mException\u001b[39;00m:\n\u001b[0;32m     83\u001b[0m     \u001b[39mself\u001b[39m\u001b[39m.\u001b[39mquit()\n",
      "File \u001b[1;32mc:\\Users\\HP\\AppData\\Local\\Programs\\Python\\Python310\\lib\\site-packages\\selenium\\webdriver\\remote\\webdriver.py:157\u001b[0m, in \u001b[0;36mWebDriver.__init__\u001b[1;34m(self, command_executor, desired_capabilities, browser_profile, proxy, keep_alive, file_detector, options)\u001b[0m\n\u001b[0;32m    154\u001b[0m \u001b[39mif\u001b[39;00m browser_profile \u001b[39mis\u001b[39;00m \u001b[39mnot\u001b[39;00m \u001b[39mNone\u001b[39;00m:\n\u001b[0;32m    155\u001b[0m     warnings\u001b[39m.\u001b[39mwarn(\u001b[39m\"\u001b[39m\u001b[39mPlease use FirefoxOptions to set browser profile\u001b[39m\u001b[39m\"\u001b[39m,\n\u001b[0;32m    156\u001b[0m                   \u001b[39mDeprecationWarning\u001b[39;00m, stacklevel\u001b[39m=\u001b[39m\u001b[39m2\u001b[39m)\n\u001b[1;32m--> 157\u001b[0m \u001b[39mself\u001b[39;49m\u001b[39m.\u001b[39;49mstart_session(capabilities, browser_profile)\n\u001b[0;32m    158\u001b[0m \u001b[39mself\u001b[39m\u001b[39m.\u001b[39m_switch_to \u001b[39m=\u001b[39m SwitchTo(\u001b[39mself\u001b[39m)\n\u001b[0;32m    159\u001b[0m \u001b[39mself\u001b[39m\u001b[39m.\u001b[39m_mobile \u001b[39m=\u001b[39m Mobile(\u001b[39mself\u001b[39m)\n",
      "File \u001b[1;32mc:\\Users\\HP\\AppData\\Local\\Programs\\Python\\Python310\\lib\\site-packages\\selenium\\webdriver\\remote\\webdriver.py:252\u001b[0m, in \u001b[0;36mWebDriver.start_session\u001b[1;34m(self, capabilities, browser_profile)\u001b[0m\n\u001b[0;32m    249\u001b[0m w3c_caps \u001b[39m=\u001b[39m _make_w3c_caps(capabilities)\n\u001b[0;32m    250\u001b[0m parameters \u001b[39m=\u001b[39m {\u001b[39m\"\u001b[39m\u001b[39mcapabilities\u001b[39m\u001b[39m\"\u001b[39m: w3c_caps,\n\u001b[0;32m    251\u001b[0m               \u001b[39m\"\u001b[39m\u001b[39mdesiredCapabilities\u001b[39m\u001b[39m\"\u001b[39m: capabilities}\n\u001b[1;32m--> 252\u001b[0m response \u001b[39m=\u001b[39m \u001b[39mself\u001b[39;49m\u001b[39m.\u001b[39;49mexecute(Command\u001b[39m.\u001b[39;49mNEW_SESSION, parameters)\n\u001b[0;32m    253\u001b[0m \u001b[39mif\u001b[39;00m \u001b[39m'\u001b[39m\u001b[39msessionId\u001b[39m\u001b[39m'\u001b[39m \u001b[39mnot\u001b[39;00m \u001b[39min\u001b[39;00m response:\n\u001b[0;32m    254\u001b[0m     response \u001b[39m=\u001b[39m response[\u001b[39m'\u001b[39m\u001b[39mvalue\u001b[39m\u001b[39m'\u001b[39m]\n",
      "File \u001b[1;32mc:\\Users\\HP\\AppData\\Local\\Programs\\Python\\Python310\\lib\\site-packages\\selenium\\webdriver\\remote\\webdriver.py:321\u001b[0m, in \u001b[0;36mWebDriver.execute\u001b[1;34m(self, driver_command, params)\u001b[0m\n\u001b[0;32m    319\u001b[0m response \u001b[39m=\u001b[39m \u001b[39mself\u001b[39m\u001b[39m.\u001b[39mcommand_executor\u001b[39m.\u001b[39mexecute(driver_command, params)\n\u001b[0;32m    320\u001b[0m \u001b[39mif\u001b[39;00m response:\n\u001b[1;32m--> 321\u001b[0m     \u001b[39mself\u001b[39;49m\u001b[39m.\u001b[39;49merror_handler\u001b[39m.\u001b[39;49mcheck_response(response)\n\u001b[0;32m    322\u001b[0m     response[\u001b[39m'\u001b[39m\u001b[39mvalue\u001b[39m\u001b[39m'\u001b[39m] \u001b[39m=\u001b[39m \u001b[39mself\u001b[39m\u001b[39m.\u001b[39m_unwrap_value(\n\u001b[0;32m    323\u001b[0m         response\u001b[39m.\u001b[39mget(\u001b[39m'\u001b[39m\u001b[39mvalue\u001b[39m\u001b[39m'\u001b[39m, \u001b[39mNone\u001b[39;00m))\n\u001b[0;32m    324\u001b[0m     \u001b[39mreturn\u001b[39;00m response\n",
      "File \u001b[1;32mc:\\Users\\HP\\AppData\\Local\\Programs\\Python\\Python310\\lib\\site-packages\\selenium\\webdriver\\remote\\errorhandler.py:242\u001b[0m, in \u001b[0;36mErrorHandler.check_response\u001b[1;34m(self, response)\u001b[0m\n\u001b[0;32m    240\u001b[0m         alert_text \u001b[39m=\u001b[39m value[\u001b[39m'\u001b[39m\u001b[39malert\u001b[39m\u001b[39m'\u001b[39m]\u001b[39m.\u001b[39mget(\u001b[39m'\u001b[39m\u001b[39mtext\u001b[39m\u001b[39m'\u001b[39m)\n\u001b[0;32m    241\u001b[0m     \u001b[39mraise\u001b[39;00m exception_class(message, screen, stacktrace, alert_text)\n\u001b[1;32m--> 242\u001b[0m \u001b[39mraise\u001b[39;00m exception_class(message, screen, stacktrace)\n",
      "\u001b[1;31mSessionNotCreatedException\u001b[0m: Message: session not created: This version of ChromeDriver only supports Chrome version 111\nCurrent browser version is 114.0.5735.134 with binary path C:\\Program Files\\Google\\Chrome\\Application\\chrome.exe\n"
     ]
    }
   ],
   "source": [
    "import time\n",
    "from selenium import webdriver\n",
    "from selenium.webdriver.common.keys import Keys\n",
    "from selenium.webdriver.common.by import By\n",
    "\n",
    "# Set up your search query and number of images to fetch\n",
    "search_query = 'lion'\n",
    "num_images = 3\n",
    "\n",
    "# Configure Selenium webdriver\n",
    "driver = webdriver.Chrome()  # Make sure you have Chrome WebDriver installed and in the system PATH\n",
    "driver.get(\"https://www.google.com/imghp\")\n",
    "\n",
    "# Find and fill the search bar\n",
    "search_bar = driver.find_element(By.CSS_SELECTOR, \"input[name='q']\")\n",
    "search_bar.send_keys(search_query)\n",
    "search_bar.send_keys(Keys.RETURN)\n",
    "\n",
    "# Wait for search results to load\n",
    "time.sleep(5)\n",
    "\n",
    "# Find image elements in the search results\n",
    "image_elements = driver.find_elements(By.CSS_SELECTOR, \"img[class='rg_i Q4LuWd']\")\n",
    "\n",
    "# Download the images\n",
    "downloaded_images = 0\n",
    "for i, image_element in enumerate(image_elements):\n",
    "    # Click on the image to view it in a larger size\n",
    "    driver.execute_script(\"arguments[0].click();\", image_element)\n",
    "    time.sleep(2)\n",
    "    \n",
    "    # Find the larger image element\n",
    "    larger_image_element = driver.find_element(By.CSS_SELECTOR, \"img[class='n3VNCb']\")\n",
    "    \n",
    "    # Get the image source URL\n",
    "    image_url = larger_image_element.get_attribute(\"src\")\n",
    "    if image_url.startswith('data:image'):\n",
    "        continue  # Skip base64 encoded images\n",
    "    \n",
    "    try:\n",
    "        # Send a GET request to download the image\n",
    "        image_response = requests.get(image_url, stream=True)\n",
    "        image_response.raise_for_status()\n",
    "        \n",
    "        # Save the image to a file\n",
    "        image_path = f'downloaded_images/image_{downloaded_images + 1}.jpg'\n",
    "        with open(image_path, 'wb') as image_file:\n",
    "            shutil.copyfileobj(image_response.raw, image_file)\n",
    "        \n",
    "        print(f\"Image {downloaded_images + 1} downloaded and saved as {image_path}\")\n",
    "        downloaded_images += 1\n",
    "        \n",
    "        if downloaded_images == num_images:\n",
    "            break\n",
    "    except Exception as e:\n",
    "        print(f\"Error downloading image: {str(e)}\")\n",
    "\n",
    "# Close the browser\n",
    "driver.quit()\n",
    "\n",
    "if downloaded_images == 0:\n",
    "    print(\"No images found for the given search query.\")\n"
   ]
  },
  {
   "cell_type": "code",
   "execution_count": 24,
   "metadata": {},
   "outputs": [
    {
     "ename": "HeaderNotFoundError",
     "evalue": "can't sync to MPEG frame",
     "output_type": "error",
     "traceback": [
      "\u001b[1;31m---------------------------------------------------------------------------\u001b[0m",
      "\u001b[1;31mHeaderNotFoundError\u001b[0m                       Traceback (most recent call last)",
      "\u001b[1;32me:\\ai_ml\\mycode\\test.ipynb Cell 3\u001b[0m in \u001b[0;36m<cell line: 51>\u001b[1;34m()\u001b[0m\n\u001b[0;32m     <a href='vscode-notebook-cell:/e%3A/ai_ml/mycode/test.ipynb#W2sZmlsZQ%3D%3D?line=47'>48</a>\u001b[0m voiceovers \u001b[39m=\u001b[39m [\u001b[39m'\u001b[39m\u001b[39mvoiceover_1.mp3\u001b[39m\u001b[39m'\u001b[39m, \u001b[39m'\u001b[39m\u001b[39mvoiceover_2.mp3\u001b[39m\u001b[39m'\u001b[39m, \u001b[39m'\u001b[39m\u001b[39mvoiceover_3.mp3\u001b[39m\u001b[39m'\u001b[39m, \u001b[39m'\u001b[39m\u001b[39mvoiceover_4.mp3\u001b[39m\u001b[39m'\u001b[39m, \u001b[39m'\u001b[39m\u001b[39mvoiceover_5.mp3\u001b[39m\u001b[39m'\u001b[39m, \u001b[39m'\u001b[39m\u001b[39mvoiceover_6.mp3\u001b[39m\u001b[39m'\u001b[39m]\n\u001b[0;32m     <a href='vscode-notebook-cell:/e%3A/ai_ml/mycode/test.ipynb#W2sZmlsZQ%3D%3D?line=48'>49</a>\u001b[0m output_file \u001b[39m=\u001b[39m \u001b[39m'\u001b[39m\u001b[39moutput.mp4\u001b[39m\u001b[39m'\u001b[39m\n\u001b[1;32m---> <a href='vscode-notebook-cell:/e%3A/ai_ml/mycode/test.ipynb#W2sZmlsZQ%3D%3D?line=50'>51</a>\u001b[0m create_video(images, voiceovers, output_file)\n",
      "\u001b[1;32me:\\ai_ml\\mycode\\test.ipynb Cell 3\u001b[0m in \u001b[0;36mcreate_video\u001b[1;34m(images, voiceovers, output_file)\u001b[0m\n\u001b[0;32m      <a href='vscode-notebook-cell:/e%3A/ai_ml/mycode/test.ipynb#W2sZmlsZQ%3D%3D?line=4'>5</a>\u001b[0m \u001b[39mdef\u001b[39;00m \u001b[39mcreate_video\u001b[39m(images, voiceovers, output_file):\n\u001b[0;32m      <a href='vscode-notebook-cell:/e%3A/ai_ml/mycode/test.ipynb#W2sZmlsZQ%3D%3D?line=5'>6</a>\u001b[0m     \u001b[39m# Determine the maximum duration among all voiceovers\u001b[39;00m\n\u001b[1;32m----> <a href='vscode-notebook-cell:/e%3A/ai_ml/mycode/test.ipynb#W2sZmlsZQ%3D%3D?line=6'>7</a>\u001b[0m     max_duration \u001b[39m=\u001b[39m \u001b[39mmax\u001b[39m([get_duration(vo) \u001b[39mfor\u001b[39;00m vo \u001b[39min\u001b[39;00m voiceovers])\n\u001b[0;32m      <a href='vscode-notebook-cell:/e%3A/ai_ml/mycode/test.ipynb#W2sZmlsZQ%3D%3D?line=8'>9</a>\u001b[0m     \u001b[39m# Generate a temporary text file to store the list of image files\u001b[39;00m\n\u001b[0;32m     <a href='vscode-notebook-cell:/e%3A/ai_ml/mycode/test.ipynb#W2sZmlsZQ%3D%3D?line=9'>10</a>\u001b[0m     image_list_file \u001b[39m=\u001b[39m \u001b[39m'\u001b[39m\u001b[39mimage_list.txt\u001b[39m\u001b[39m'\u001b[39m\n",
      "\u001b[1;32me:\\ai_ml\\mycode\\test.ipynb Cell 3\u001b[0m in \u001b[0;36m<listcomp>\u001b[1;34m(.0)\u001b[0m\n\u001b[0;32m      <a href='vscode-notebook-cell:/e%3A/ai_ml/mycode/test.ipynb#W2sZmlsZQ%3D%3D?line=4'>5</a>\u001b[0m \u001b[39mdef\u001b[39;00m \u001b[39mcreate_video\u001b[39m(images, voiceovers, output_file):\n\u001b[0;32m      <a href='vscode-notebook-cell:/e%3A/ai_ml/mycode/test.ipynb#W2sZmlsZQ%3D%3D?line=5'>6</a>\u001b[0m     \u001b[39m# Determine the maximum duration among all voiceovers\u001b[39;00m\n\u001b[1;32m----> <a href='vscode-notebook-cell:/e%3A/ai_ml/mycode/test.ipynb#W2sZmlsZQ%3D%3D?line=6'>7</a>\u001b[0m     max_duration \u001b[39m=\u001b[39m \u001b[39mmax\u001b[39m([get_duration(vo) \u001b[39mfor\u001b[39;00m vo \u001b[39min\u001b[39;00m voiceovers])\n\u001b[0;32m      <a href='vscode-notebook-cell:/e%3A/ai_ml/mycode/test.ipynb#W2sZmlsZQ%3D%3D?line=8'>9</a>\u001b[0m     \u001b[39m# Generate a temporary text file to store the list of image files\u001b[39;00m\n\u001b[0;32m     <a href='vscode-notebook-cell:/e%3A/ai_ml/mycode/test.ipynb#W2sZmlsZQ%3D%3D?line=9'>10</a>\u001b[0m     image_list_file \u001b[39m=\u001b[39m \u001b[39m'\u001b[39m\u001b[39mimage_list.txt\u001b[39m\u001b[39m'\u001b[39m\n",
      "\u001b[1;32me:\\ai_ml\\mycode\\test.ipynb Cell 3\u001b[0m in \u001b[0;36mget_duration\u001b[1;34m(voiceover_file)\u001b[0m\n\u001b[0;32m     <a href='vscode-notebook-cell:/e%3A/ai_ml/mycode/test.ipynb#W2sZmlsZQ%3D%3D?line=40'>41</a>\u001b[0m \u001b[39mdef\u001b[39;00m \u001b[39mget_duration\u001b[39m(voiceover_file):\n\u001b[1;32m---> <a href='vscode-notebook-cell:/e%3A/ai_ml/mycode/test.ipynb#W2sZmlsZQ%3D%3D?line=41'>42</a>\u001b[0m     audio \u001b[39m=\u001b[39m MP3(voiceover_file)\n\u001b[0;32m     <a href='vscode-notebook-cell:/e%3A/ai_ml/mycode/test.ipynb#W2sZmlsZQ%3D%3D?line=42'>43</a>\u001b[0m     duration \u001b[39m=\u001b[39m audio\u001b[39m.\u001b[39minfo\u001b[39m.\u001b[39mlength\n\u001b[0;32m     <a href='vscode-notebook-cell:/e%3A/ai_ml/mycode/test.ipynb#W2sZmlsZQ%3D%3D?line=43'>44</a>\u001b[0m     \u001b[39mreturn\u001b[39;00m duration\n",
      "File \u001b[1;32mc:\\Users\\HP\\AppData\\Local\\Programs\\Python\\Python310\\lib\\site-packages\\mutagen\\_file.py:47\u001b[0m, in \u001b[0;36mFileType.__init__\u001b[1;34m(self, *args, **kwargs)\u001b[0m\n\u001b[0;32m     44\u001b[0m     warnings\u001b[39m.\u001b[39mwarn(\u001b[39m\"\u001b[39m\u001b[39mFileType constructor requires a filename\u001b[39m\u001b[39m\"\u001b[39m,\n\u001b[0;32m     45\u001b[0m                   \u001b[39mDeprecationWarning\u001b[39;00m)\n\u001b[0;32m     46\u001b[0m \u001b[39melse\u001b[39;00m:\n\u001b[1;32m---> 47\u001b[0m     \u001b[39mself\u001b[39m\u001b[39m.\u001b[39mload(\u001b[39m*\u001b[39margs, \u001b[39m*\u001b[39m\u001b[39m*\u001b[39mkwargs)\n",
      "File \u001b[1;32mc:\\Users\\HP\\AppData\\Local\\Programs\\Python\\Python310\\lib\\site-packages\\mutagen\\_util.py:155\u001b[0m, in \u001b[0;36mloadfile.<locals>.wrap.<locals>.wrapper\u001b[1;34m(self, *args, **kwargs)\u001b[0m\n\u001b[0;32m    151\u001b[0m filething, filename, fileobj, args, kwargs \u001b[39m=\u001b[39m \\\n\u001b[0;32m    152\u001b[0m     convert_file_args(args, kwargs)\n\u001b[0;32m    153\u001b[0m \u001b[39mwith\u001b[39;00m _openfile(\u001b[39mself\u001b[39m, filething, filename, fileobj,\n\u001b[0;32m    154\u001b[0m                writable, create) \u001b[39mas\u001b[39;00m h:\n\u001b[1;32m--> 155\u001b[0m     \u001b[39mreturn\u001b[39;00m func(\u001b[39mself\u001b[39m, h, \u001b[39m*\u001b[39margs, \u001b[39m*\u001b[39m\u001b[39m*\u001b[39mkwargs)\n",
      "File \u001b[1;32mc:\\Users\\HP\\AppData\\Local\\Programs\\Python\\Python310\\lib\\site-packages\\mutagen\\id3\\_file.py:420\u001b[0m, in \u001b[0;36mID3FileType.load\u001b[1;34m(self, filething, ID3, **kwargs)\u001b[0m\n\u001b[0;32m    417\u001b[0m \u001b[39melse\u001b[39;00m:\n\u001b[0;32m    418\u001b[0m     offset \u001b[39m=\u001b[39m \u001b[39mNone\u001b[39;00m\n\u001b[1;32m--> 420\u001b[0m \u001b[39mself\u001b[39m\u001b[39m.\u001b[39minfo \u001b[39m=\u001b[39m \u001b[39mself\u001b[39;49m\u001b[39m.\u001b[39;49m_Info(fileobj, offset)\n",
      "File \u001b[1;32mc:\\Users\\HP\\AppData\\Local\\Programs\\Python\\Python310\\lib\\site-packages\\mutagen\\_util.py:184\u001b[0m, in \u001b[0;36mconvert_error.<locals>.wrap.<locals>.wrapper\u001b[1;34m(*args, **kwargs)\u001b[0m\n\u001b[0;32m    181\u001b[0m \u001b[39m@wraps\u001b[39m(func)\n\u001b[0;32m    182\u001b[0m \u001b[39mdef\u001b[39;00m \u001b[39mwrapper\u001b[39m(\u001b[39m*\u001b[39margs, \u001b[39m*\u001b[39m\u001b[39m*\u001b[39mkwargs):\n\u001b[0;32m    183\u001b[0m     \u001b[39mtry\u001b[39;00m:\n\u001b[1;32m--> 184\u001b[0m         \u001b[39mreturn\u001b[39;00m func(\u001b[39m*\u001b[39margs, \u001b[39m*\u001b[39m\u001b[39m*\u001b[39mkwargs)\n\u001b[0;32m    185\u001b[0m     \u001b[39mexcept\u001b[39;00m exc_dest:\n\u001b[0;32m    186\u001b[0m         \u001b[39mraise\u001b[39;00m\n",
      "File \u001b[1;32mc:\\Users\\HP\\AppData\\Local\\Programs\\Python\\Python310\\lib\\site-packages\\mutagen\\mp3\\__init__.py:401\u001b[0m, in \u001b[0;36mMPEGInfo.__init__\u001b[1;34m(self, fileobj, offset)\u001b[0m\n\u001b[0;32m    398\u001b[0m     \u001b[39mdel\u001b[39;00m frames[:]\n\u001b[0;32m    400\u001b[0m \u001b[39mif\u001b[39;00m first_frame \u001b[39mis\u001b[39;00m \u001b[39mNone\u001b[39;00m:\n\u001b[1;32m--> 401\u001b[0m     \u001b[39mraise\u001b[39;00m HeaderNotFoundError(\u001b[39m\"\u001b[39m\u001b[39mcan\u001b[39m\u001b[39m'\u001b[39m\u001b[39mt sync to MPEG frame\u001b[39m\u001b[39m\"\u001b[39m)\n\u001b[0;32m    403\u001b[0m \u001b[39massert\u001b[39;00m first_frame\n\u001b[0;32m    405\u001b[0m \u001b[39mself\u001b[39m\u001b[39m.\u001b[39mlength \u001b[39m=\u001b[39m \u001b[39m-\u001b[39m\u001b[39m1\u001b[39m\n",
      "\u001b[1;31mHeaderNotFoundError\u001b[0m: can't sync to MPEG frame"
     ]
    }
   ],
   "source": [
    "import subprocess\n",
    "from mutagen.mp3 import MP3\n",
    "import os\n",
    "\n",
    "def create_video(images, voiceovers, output_file):\n",
    "    # Determine the maximum duration among all voiceovers\n",
    "    max_duration = max([get_duration(vo) for vo in voiceovers])\n",
    "    \n",
    "    # Generate a temporary text file to store the list of image files\n",
    "    image_list_file = 'image_list.txt'\n",
    "    with open(image_list_file, 'w') as f:\n",
    "        for image in images:\n",
    "            f.write(\"file '{}'\\n\".format(image))\n",
    "    \n",
    "    # Generate a temporary text file to store the list of voiceover files\n",
    "    voiceover_list_file = 'voiceover_list.txt'\n",
    "    with open(voiceover_list_file, 'w') as f:\n",
    "        for i, voiceover in enumerate(voiceovers):\n",
    "            f.write(\"file '{}'\\n\".format(voiceover))\n",
    "            f.write(\"duration {}\\n\".format(max_duration))\n",
    "    \n",
    "    # Execute the ffmpeg command to create the video\n",
    "    subprocess.call([\n",
    "        'ffmpeg', '-y',\n",
    "        '-f', 'concat',\n",
    "        '-safe', '0',\n",
    "        '-i', image_list_file,\n",
    "        '-f', 'concat',\n",
    "        '-safe', '0',\n",
    "        '-i', voiceover_list_file,\n",
    "        '-c:v', 'libx264',\n",
    "        '-vf', 'fps=30',\n",
    "        '-pix_fmt', 'yuv420p',\n",
    "        output_file\n",
    "    ])\n",
    "    \n",
    "    # Remove the temporary text files\n",
    "    os.remove(image_list_file)\n",
    "    os.remove(voiceover_list_file)\n",
    "    \n",
    "def get_duration(voiceover_file):\n",
    "    audio = MP3(voiceover_file)\n",
    "    duration = audio.info.length\n",
    "    return duration\n",
    "\n",
    "# Example usage\n",
    "images = ['image_1.jpg', 'image_2.jpg', 'image_3.jpg', 'image_4.jpg', 'image_5.jpg', 'image_6.jpg']\n",
    "voiceovers = ['voiceover_1.mp3', 'voiceover_2.mp3', 'voiceover_3.mp3', 'voiceover_4.mp3', 'voiceover_5.mp3', 'voiceover_6.mp3']\n",
    "output_file = 'output.mp4'\n",
    "\n",
    "create_video(images, voiceovers, output_file)\n"
   ]
  },
  {
   "cell_type": "code",
   "execution_count": 27,
   "metadata": {},
   "outputs": [
    {
     "data": {
      "application/vnd.plotly.v1+json": {
       "config": {
        "plotlyServerURL": "https://plot.ly"
       },
       "data": [
        {
         "fill": "toself",
         "fillcolor": "rgb(0, 0, 0)",
         "hoverinfo": "name",
         "hovertemplate": "<b>%{text}</b><br>Start: %{x}<br>End: %{y}<br>Cost: $%{customdata[0]}",
         "legendgroup": "rgb(0, 0, 0)",
         "mode": "none",
         "name": "Workable Authentication for Admin Panel, Website, and App along with Basic Front-end",
         "showlegend": false,
         "type": "scatter",
         "x": [
          "2023-07-04",
          "2023-07-11",
          "2023-07-11",
          "2023-07-04"
         ],
         "y": [
          3.7,
          3.7,
          4.3,
          4.3
         ]
        },
        {
         "fill": "toself",
         "fillcolor": "rgb(158, 202, 225)",
         "hoverinfo": "name",
         "hovertemplate": "<b>%{text}</b><br>Start: %{x}<br>End: %{y}<br>Cost: $%{customdata[0]}",
         "legendgroup": "rgb(158, 202, 225)",
         "mode": "none",
         "name": "Complete Seller and Buyer Implementation in App and Web, and Stats Related to Seller/Buyer in Admin Panel",
         "showlegend": false,
         "type": "scatter",
         "x": [
          "2023-07-12",
          "2023-07-19",
          "2023-07-19",
          "2023-07-12"
         ],
         "y": [
          2.7,
          2.7,
          3.3,
          3.3
         ]
        },
        {
         "fill": "toself",
         "fillcolor": "rgb(58, 0, 255)",
         "hoverinfo": "name",
         "hovertemplate": "<b>%{text}</b><br>Start: %{x}<br>End: %{y}<br>Cost: $%{customdata[0]}",
         "legendgroup": "rgb(58, 0, 255)",
         "mode": "none",
         "name": "Testing",
         "showlegend": false,
         "type": "scatter",
         "x": [
          "2023-07-28",
          "2023-08-4",
          "2023-08-4",
          "2023-07-28"
         ],
         "y": [
          0.7,
          0.7,
          1.3,
          1.3
         ]
        },
        {
         "fill": "toself",
         "fillcolor": "rgb(58, 100, 255)",
         "hoverinfo": "name",
         "hovertemplate": "<b>%{text}</b><br>Start: %{x}<br>End: %{y}<br>Cost: $%{customdata[0]}",
         "legendgroup": "rgb(58, 100, 255)",
         "mode": "none",
         "name": "Identity Logo and UI/UX design for Web, App, and Admin Panel",
         "showlegend": false,
         "type": "scatter",
         "x": [
          "2023-06-26",
          "2023-07-03",
          "2023-07-03",
          "2023-06-26"
         ],
         "y": [
          4.7,
          4.7,
          5.3,
          5.3
         ]
        },
        {
         "fill": "toself",
         "fillcolor": "rgb(58, 160, 255)",
         "hoverinfo": "name",
         "hovertemplate": "<b>%{text}</b><br>Start: %{x}<br>End: %{y}<br>Cost: $%{customdata[0]}",
         "legendgroup": "rgb(58, 160, 255)",
         "mode": "none",
         "name": "Deployment",
         "showlegend": false,
         "type": "scatter",
         "x": [
          "2023-08-5",
          "2023-08-10",
          "2023-08-10",
          "2023-08-5"
         ],
         "y": [
          -0.3,
          -0.3,
          0.3,
          0.3
         ]
        },
        {
         "fill": "toself",
         "fillcolor": "rgb(58, 200, 225)",
         "hoverinfo": "name",
         "hovertemplate": "<b>%{text}</b><br>Start: %{x}<br>End: %{y}<br>Cost: $%{customdata[0]}",
         "legendgroup": "rgb(58, 200, 225)",
         "mode": "none",
         "name": "Complete Web, App, and Admin Panel",
         "showlegend": false,
         "type": "scatter",
         "x": [
          "2023-07-20",
          "2023-07-27",
          "2023-07-27",
          "2023-07-20"
         ],
         "y": [
          1.7,
          1.7,
          2.3,
          2.3
         ]
        },
        {
         "hovertemplate": "<b>%{text}</b><br>Start: %{x}<br>End: %{y}<br>Cost: $%{customdata[0]}",
         "legendgroup": "rgb(0, 0, 0)",
         "marker": {
          "color": "rgb(0, 0, 0)",
          "opacity": 0,
          "size": 1
         },
         "mode": "markers",
         "name": "",
         "showlegend": false,
         "text": [
          null,
          null
         ],
         "type": "scatter",
         "x": [
          "2023-07-04",
          "2023-07-11"
         ],
         "y": [
          4,
          4
         ]
        },
        {
         "hovertemplate": "<b>%{text}</b><br>Start: %{x}<br>End: %{y}<br>Cost: $%{customdata[0]}",
         "legendgroup": "rgb(158, 202, 225)",
         "marker": {
          "color": "rgb(158, 202, 225)",
          "opacity": 0,
          "size": 1
         },
         "mode": "markers",
         "name": "",
         "showlegend": false,
         "text": [
          null,
          null
         ],
         "type": "scatter",
         "x": [
          "2023-07-12",
          "2023-07-19"
         ],
         "y": [
          3,
          3
         ]
        },
        {
         "hovertemplate": "<b>%{text}</b><br>Start: %{x}<br>End: %{y}<br>Cost: $%{customdata[0]}",
         "legendgroup": "rgb(58, 0, 255)",
         "marker": {
          "color": "rgb(58, 0, 255)",
          "opacity": 0,
          "size": 1
         },
         "mode": "markers",
         "name": "",
         "showlegend": false,
         "text": [
          null,
          null
         ],
         "type": "scatter",
         "x": [
          "2023-07-28",
          "2023-08-4"
         ],
         "y": [
          1,
          1
         ]
        },
        {
         "hovertemplate": "<b>%{text}</b><br>Start: %{x}<br>End: %{y}<br>Cost: $%{customdata[0]}",
         "legendgroup": "rgb(58, 100, 255)",
         "marker": {
          "color": "rgb(58, 100, 255)",
          "opacity": 0,
          "size": 1
         },
         "mode": "markers",
         "name": "",
         "showlegend": false,
         "text": [
          null,
          null
         ],
         "type": "scatter",
         "x": [
          "2023-06-26",
          "2023-07-03"
         ],
         "y": [
          5,
          5
         ]
        },
        {
         "hovertemplate": "<b>%{text}</b><br>Start: %{x}<br>End: %{y}<br>Cost: $%{customdata[0]}",
         "legendgroup": "rgb(58, 160, 255)",
         "marker": {
          "color": "rgb(58, 160, 255)",
          "opacity": 0,
          "size": 1
         },
         "mode": "markers",
         "name": "",
         "showlegend": false,
         "text": [
          null,
          null
         ],
         "type": "scatter",
         "x": [
          "2023-08-5",
          "2023-08-10"
         ],
         "y": [
          0,
          0
         ]
        },
        {
         "hovertemplate": "<b>%{text}</b><br>Start: %{x}<br>End: %{y}<br>Cost: $%{customdata[0]}",
         "legendgroup": "rgb(58, 200, 225)",
         "marker": {
          "color": "rgb(58, 200, 225)",
          "opacity": 0,
          "size": 1
         },
         "mode": "markers",
         "name": "",
         "showlegend": false,
         "text": [
          null,
          null
         ],
         "type": "scatter",
         "x": [
          "2023-07-20",
          "2023-07-27"
         ],
         "y": [
          2,
          2
         ]
        }
       ],
       "layout": {
        "annotations": [
         {
          "align": "center",
          "font": {
           "color": "black",
           "size": 12
          },
          "showarrow": false,
          "text": "$270",
          "x": "2023-07-03",
          "xshift": 5,
          "y": "Module 1"
         },
         {
          "align": "center",
          "font": {
           "color": "black",
           "size": 12
          },
          "showarrow": false,
          "text": "$450",
          "x": "2023-07-11",
          "xshift": 5,
          "y": "Module 2"
         },
         {
          "align": "center",
          "font": {
           "color": "black",
           "size": 12
          },
          "showarrow": false,
          "text": "$540",
          "x": "2023-07-19",
          "xshift": 5,
          "y": "Module 3"
         },
         {
          "align": "center",
          "font": {
           "color": "black",
           "size": 12
          },
          "showarrow": false,
          "text": "$359",
          "x": "2023-07-27",
          "xshift": 5,
          "y": "Module 4"
         },
         {
          "align": "center",
          "font": {
           "color": "black",
           "size": 12
          },
          "showarrow": false,
          "text": "$180",
          "x": "2023-08-4",
          "xshift": 5,
          "y": "Module 5"
         },
         {
          "align": "center",
          "font": {
           "color": "black",
           "size": 12
          },
          "showarrow": false,
          "text": "$None",
          "x": "2023-08-10",
          "xshift": 5,
          "y": "Module 6"
         }
        ],
        "height": 600,
        "hovermode": "closest",
        "showlegend": false,
        "template": {
         "data": {
          "bar": [
           {
            "error_x": {
             "color": "#2a3f5f"
            },
            "error_y": {
             "color": "#2a3f5f"
            },
            "marker": {
             "line": {
              "color": "#E5ECF6",
              "width": 0.5
             },
             "pattern": {
              "fillmode": "overlay",
              "size": 10,
              "solidity": 0.2
             }
            },
            "type": "bar"
           }
          ],
          "barpolar": [
           {
            "marker": {
             "line": {
              "color": "#E5ECF6",
              "width": 0.5
             },
             "pattern": {
              "fillmode": "overlay",
              "size": 10,
              "solidity": 0.2
             }
            },
            "type": "barpolar"
           }
          ],
          "carpet": [
           {
            "aaxis": {
             "endlinecolor": "#2a3f5f",
             "gridcolor": "white",
             "linecolor": "white",
             "minorgridcolor": "white",
             "startlinecolor": "#2a3f5f"
            },
            "baxis": {
             "endlinecolor": "#2a3f5f",
             "gridcolor": "white",
             "linecolor": "white",
             "minorgridcolor": "white",
             "startlinecolor": "#2a3f5f"
            },
            "type": "carpet"
           }
          ],
          "choropleth": [
           {
            "colorbar": {
             "outlinewidth": 0,
             "ticks": ""
            },
            "type": "choropleth"
           }
          ],
          "contour": [
           {
            "colorbar": {
             "outlinewidth": 0,
             "ticks": ""
            },
            "colorscale": [
             [
              0,
              "#0d0887"
             ],
             [
              0.1111111111111111,
              "#46039f"
             ],
             [
              0.2222222222222222,
              "#7201a8"
             ],
             [
              0.3333333333333333,
              "#9c179e"
             ],
             [
              0.4444444444444444,
              "#bd3786"
             ],
             [
              0.5555555555555556,
              "#d8576b"
             ],
             [
              0.6666666666666666,
              "#ed7953"
             ],
             [
              0.7777777777777778,
              "#fb9f3a"
             ],
             [
              0.8888888888888888,
              "#fdca26"
             ],
             [
              1,
              "#f0f921"
             ]
            ],
            "type": "contour"
           }
          ],
          "contourcarpet": [
           {
            "colorbar": {
             "outlinewidth": 0,
             "ticks": ""
            },
            "type": "contourcarpet"
           }
          ],
          "heatmap": [
           {
            "colorbar": {
             "outlinewidth": 0,
             "ticks": ""
            },
            "colorscale": [
             [
              0,
              "#0d0887"
             ],
             [
              0.1111111111111111,
              "#46039f"
             ],
             [
              0.2222222222222222,
              "#7201a8"
             ],
             [
              0.3333333333333333,
              "#9c179e"
             ],
             [
              0.4444444444444444,
              "#bd3786"
             ],
             [
              0.5555555555555556,
              "#d8576b"
             ],
             [
              0.6666666666666666,
              "#ed7953"
             ],
             [
              0.7777777777777778,
              "#fb9f3a"
             ],
             [
              0.8888888888888888,
              "#fdca26"
             ],
             [
              1,
              "#f0f921"
             ]
            ],
            "type": "heatmap"
           }
          ],
          "heatmapgl": [
           {
            "colorbar": {
             "outlinewidth": 0,
             "ticks": ""
            },
            "colorscale": [
             [
              0,
              "#0d0887"
             ],
             [
              0.1111111111111111,
              "#46039f"
             ],
             [
              0.2222222222222222,
              "#7201a8"
             ],
             [
              0.3333333333333333,
              "#9c179e"
             ],
             [
              0.4444444444444444,
              "#bd3786"
             ],
             [
              0.5555555555555556,
              "#d8576b"
             ],
             [
              0.6666666666666666,
              "#ed7953"
             ],
             [
              0.7777777777777778,
              "#fb9f3a"
             ],
             [
              0.8888888888888888,
              "#fdca26"
             ],
             [
              1,
              "#f0f921"
             ]
            ],
            "type": "heatmapgl"
           }
          ],
          "histogram": [
           {
            "marker": {
             "pattern": {
              "fillmode": "overlay",
              "size": 10,
              "solidity": 0.2
             }
            },
            "type": "histogram"
           }
          ],
          "histogram2d": [
           {
            "colorbar": {
             "outlinewidth": 0,
             "ticks": ""
            },
            "colorscale": [
             [
              0,
              "#0d0887"
             ],
             [
              0.1111111111111111,
              "#46039f"
             ],
             [
              0.2222222222222222,
              "#7201a8"
             ],
             [
              0.3333333333333333,
              "#9c179e"
             ],
             [
              0.4444444444444444,
              "#bd3786"
             ],
             [
              0.5555555555555556,
              "#d8576b"
             ],
             [
              0.6666666666666666,
              "#ed7953"
             ],
             [
              0.7777777777777778,
              "#fb9f3a"
             ],
             [
              0.8888888888888888,
              "#fdca26"
             ],
             [
              1,
              "#f0f921"
             ]
            ],
            "type": "histogram2d"
           }
          ],
          "histogram2dcontour": [
           {
            "colorbar": {
             "outlinewidth": 0,
             "ticks": ""
            },
            "colorscale": [
             [
              0,
              "#0d0887"
             ],
             [
              0.1111111111111111,
              "#46039f"
             ],
             [
              0.2222222222222222,
              "#7201a8"
             ],
             [
              0.3333333333333333,
              "#9c179e"
             ],
             [
              0.4444444444444444,
              "#bd3786"
             ],
             [
              0.5555555555555556,
              "#d8576b"
             ],
             [
              0.6666666666666666,
              "#ed7953"
             ],
             [
              0.7777777777777778,
              "#fb9f3a"
             ],
             [
              0.8888888888888888,
              "#fdca26"
             ],
             [
              1,
              "#f0f921"
             ]
            ],
            "type": "histogram2dcontour"
           }
          ],
          "mesh3d": [
           {
            "colorbar": {
             "outlinewidth": 0,
             "ticks": ""
            },
            "type": "mesh3d"
           }
          ],
          "parcoords": [
           {
            "line": {
             "colorbar": {
              "outlinewidth": 0,
              "ticks": ""
             }
            },
            "type": "parcoords"
           }
          ],
          "pie": [
           {
            "automargin": true,
            "type": "pie"
           }
          ],
          "scatter": [
           {
            "fillpattern": {
             "fillmode": "overlay",
             "size": 10,
             "solidity": 0.2
            },
            "type": "scatter"
           }
          ],
          "scatter3d": [
           {
            "line": {
             "colorbar": {
              "outlinewidth": 0,
              "ticks": ""
             }
            },
            "marker": {
             "colorbar": {
              "outlinewidth": 0,
              "ticks": ""
             }
            },
            "type": "scatter3d"
           }
          ],
          "scattercarpet": [
           {
            "marker": {
             "colorbar": {
              "outlinewidth": 0,
              "ticks": ""
             }
            },
            "type": "scattercarpet"
           }
          ],
          "scattergeo": [
           {
            "marker": {
             "colorbar": {
              "outlinewidth": 0,
              "ticks": ""
             }
            },
            "type": "scattergeo"
           }
          ],
          "scattergl": [
           {
            "marker": {
             "colorbar": {
              "outlinewidth": 0,
              "ticks": ""
             }
            },
            "type": "scattergl"
           }
          ],
          "scattermapbox": [
           {
            "marker": {
             "colorbar": {
              "outlinewidth": 0,
              "ticks": ""
             }
            },
            "type": "scattermapbox"
           }
          ],
          "scatterpolar": [
           {
            "marker": {
             "colorbar": {
              "outlinewidth": 0,
              "ticks": ""
             }
            },
            "type": "scatterpolar"
           }
          ],
          "scatterpolargl": [
           {
            "marker": {
             "colorbar": {
              "outlinewidth": 0,
              "ticks": ""
             }
            },
            "type": "scatterpolargl"
           }
          ],
          "scatterternary": [
           {
            "marker": {
             "colorbar": {
              "outlinewidth": 0,
              "ticks": ""
             }
            },
            "type": "scatterternary"
           }
          ],
          "surface": [
           {
            "colorbar": {
             "outlinewidth": 0,
             "ticks": ""
            },
            "colorscale": [
             [
              0,
              "#0d0887"
             ],
             [
              0.1111111111111111,
              "#46039f"
             ],
             [
              0.2222222222222222,
              "#7201a8"
             ],
             [
              0.3333333333333333,
              "#9c179e"
             ],
             [
              0.4444444444444444,
              "#bd3786"
             ],
             [
              0.5555555555555556,
              "#d8576b"
             ],
             [
              0.6666666666666666,
              "#ed7953"
             ],
             [
              0.7777777777777778,
              "#fb9f3a"
             ],
             [
              0.8888888888888888,
              "#fdca26"
             ],
             [
              1,
              "#f0f921"
             ]
            ],
            "type": "surface"
           }
          ],
          "table": [
           {
            "cells": {
             "fill": {
              "color": "#EBF0F8"
             },
             "line": {
              "color": "white"
             }
            },
            "header": {
             "fill": {
              "color": "#C8D4E3"
             },
             "line": {
              "color": "white"
             }
            },
            "type": "table"
           }
          ]
         },
         "layout": {
          "annotationdefaults": {
           "arrowcolor": "#2a3f5f",
           "arrowhead": 0,
           "arrowwidth": 1
          },
          "autotypenumbers": "strict",
          "coloraxis": {
           "colorbar": {
            "outlinewidth": 0,
            "ticks": ""
           }
          },
          "colorscale": {
           "diverging": [
            [
             0,
             "#8e0152"
            ],
            [
             0.1,
             "#c51b7d"
            ],
            [
             0.2,
             "#de77ae"
            ],
            [
             0.3,
             "#f1b6da"
            ],
            [
             0.4,
             "#fde0ef"
            ],
            [
             0.5,
             "#f7f7f7"
            ],
            [
             0.6,
             "#e6f5d0"
            ],
            [
             0.7,
             "#b8e186"
            ],
            [
             0.8,
             "#7fbc41"
            ],
            [
             0.9,
             "#4d9221"
            ],
            [
             1,
             "#276419"
            ]
           ],
           "sequential": [
            [
             0,
             "#0d0887"
            ],
            [
             0.1111111111111111,
             "#46039f"
            ],
            [
             0.2222222222222222,
             "#7201a8"
            ],
            [
             0.3333333333333333,
             "#9c179e"
            ],
            [
             0.4444444444444444,
             "#bd3786"
            ],
            [
             0.5555555555555556,
             "#d8576b"
            ],
            [
             0.6666666666666666,
             "#ed7953"
            ],
            [
             0.7777777777777778,
             "#fb9f3a"
            ],
            [
             0.8888888888888888,
             "#fdca26"
            ],
            [
             1,
             "#f0f921"
            ]
           ],
           "sequentialminus": [
            [
             0,
             "#0d0887"
            ],
            [
             0.1111111111111111,
             "#46039f"
            ],
            [
             0.2222222222222222,
             "#7201a8"
            ],
            [
             0.3333333333333333,
             "#9c179e"
            ],
            [
             0.4444444444444444,
             "#bd3786"
            ],
            [
             0.5555555555555556,
             "#d8576b"
            ],
            [
             0.6666666666666666,
             "#ed7953"
            ],
            [
             0.7777777777777778,
             "#fb9f3a"
            ],
            [
             0.8888888888888888,
             "#fdca26"
            ],
            [
             1,
             "#f0f921"
            ]
           ]
          },
          "colorway": [
           "#636efa",
           "#EF553B",
           "#00cc96",
           "#ab63fa",
           "#FFA15A",
           "#19d3f3",
           "#FF6692",
           "#B6E880",
           "#FF97FF",
           "#FECB52"
          ],
          "font": {
           "color": "#2a3f5f"
          },
          "geo": {
           "bgcolor": "white",
           "lakecolor": "white",
           "landcolor": "#E5ECF6",
           "showlakes": true,
           "showland": true,
           "subunitcolor": "white"
          },
          "hoverlabel": {
           "align": "left"
          },
          "hovermode": "closest",
          "mapbox": {
           "style": "light"
          },
          "paper_bgcolor": "white",
          "plot_bgcolor": "#E5ECF6",
          "polar": {
           "angularaxis": {
            "gridcolor": "white",
            "linecolor": "white",
            "ticks": ""
           },
           "bgcolor": "#E5ECF6",
           "radialaxis": {
            "gridcolor": "white",
            "linecolor": "white",
            "ticks": ""
           }
          },
          "scene": {
           "xaxis": {
            "backgroundcolor": "#E5ECF6",
            "gridcolor": "white",
            "gridwidth": 2,
            "linecolor": "white",
            "showbackground": true,
            "ticks": "",
            "zerolinecolor": "white"
           },
           "yaxis": {
            "backgroundcolor": "#E5ECF6",
            "gridcolor": "white",
            "gridwidth": 2,
            "linecolor": "white",
            "showbackground": true,
            "ticks": "",
            "zerolinecolor": "white"
           },
           "zaxis": {
            "backgroundcolor": "#E5ECF6",
            "gridcolor": "white",
            "gridwidth": 2,
            "linecolor": "white",
            "showbackground": true,
            "ticks": "",
            "zerolinecolor": "white"
           }
          },
          "shapedefaults": {
           "line": {
            "color": "#2a3f5f"
           }
          },
          "ternary": {
           "aaxis": {
            "gridcolor": "white",
            "linecolor": "white",
            "ticks": ""
           },
           "baxis": {
            "gridcolor": "white",
            "linecolor": "white",
            "ticks": ""
           },
           "bgcolor": "#E5ECF6",
           "caxis": {
            "gridcolor": "white",
            "linecolor": "white",
            "ticks": ""
           }
          },
          "title": {
           "x": 0.05
          },
          "xaxis": {
           "automargin": true,
           "gridcolor": "white",
           "linecolor": "white",
           "ticks": "",
           "title": {
            "standoff": 15
           },
           "zerolinecolor": "white",
           "zerolinewidth": 2
          },
          "yaxis": {
           "automargin": true,
           "gridcolor": "white",
           "linecolor": "white",
           "ticks": "",
           "title": {
            "standoff": 15
           },
           "zerolinecolor": "white",
           "zerolinewidth": 2
          }
         }
        },
        "title": {
         "text": "Project Timeline"
        },
        "xaxis": {
         "rangeselector": {
          "buttons": [
           {
            "count": 7,
            "label": "1w",
            "step": "day",
            "stepmode": "backward"
           },
           {
            "count": 1,
            "label": "1m",
            "step": "month",
            "stepmode": "backward"
           },
           {
            "count": 6,
            "label": "6m",
            "step": "month",
            "stepmode": "backward"
           },
           {
            "count": 1,
            "label": "YTD",
            "step": "year",
            "stepmode": "todate"
           },
           {
            "count": 1,
            "label": "1y",
            "step": "year",
            "stepmode": "backward"
           },
           {
            "step": "all"
           }
          ]
         },
         "showgrid": true,
         "title": {
          "text": "Weeks"
         },
         "type": "date",
         "zeroline": false
        },
        "yaxis": {
         "autorange": false,
         "range": [
          -1,
          7
         ],
         "showgrid": true,
         "ticktext": [
          "Module 6",
          "Module 5",
          "Module 4",
          "Module 3",
          "Module 2",
          "Module 1"
         ],
         "tickvals": [
          0,
          1,
          2,
          3,
          4,
          5
         ],
         "title": {
          "text": "Modules"
         },
         "zeroline": false
        }
       }
      }
     },
     "metadata": {},
     "output_type": "display_data"
    }
   ],
   "source": [
    "import plotly.figure_factory as ff\n",
    "\n",
    "# Define module names\n",
    "modules = ['Module 1', 'Module 2', 'Module 3', 'Module 4', 'Module 5', 'Module 6']\n",
    "\n",
    "# Define start and end dates for each module (in weeks)\n",
    "start_dates = ['2023-06-26', '2023-07-04', '2023-07-12', '2023-07-20', '2023-07-28', '2023-08-5']\n",
    "end_dates = ['2023-07-03', '2023-07-11', '2023-07-19', '2023-07-27', '2023-08-4', '2023-08-10']\n",
    "\n",
    "# Define costs in USD\n",
    "costs = [270, 450, 540, 359, 180, None]\n",
    "\n",
    "# Define requirements and other necessary information\n",
    "requirements = [\n",
    "'Identity Logo and UI/UX design for Web, App, and Admin Panel',\n",
    "'Workable Authentication for Admin Panel, Website, and App along with Basic Front-end',\n",
    "'Complete Seller and Buyer Implementation in App and Web, and Stats Related to Seller/Buyer in Admin Panel',\n",
    "'Complete Web, App, and Admin Panel',\n",
    "'Testing',\n",
    "'Deployment'\n",
    "]\n",
    "\n",
    "# Create a list of dictionaries with the data\n",
    "data = [\n",
    "{'Task': module, 'Start': start, 'Finish': end, 'Cost': cost, 'Requirements': requirement}\n",
    "for module, start, end, cost, requirement in zip(modules, start_dates, end_dates, costs, requirements)\n",
    "]\n",
    "\n",
    "# Create a Gantt chart figure\n",
    "fig = ff.create_gantt(\n",
    "data,\n",
    "colors=['rgb(158,202,225)', 'rgb(58,200,225)', 'rgb(58,160,255)', 'rgb(58,100,255)', 'rgb(58,0,255)', 'rgb(0,0,0)'],\n",
    "index_col='Requirements',\n",
    "title='Project Timeline',\n",
    "showgrid_x=True,\n",
    "showgrid_y=True,\n",
    "bar_width=0.3,\n",
    "group_tasks=True\n",
    ")\n",
    "\n",
    "# Update axis labels\n",
    "fig.update_layout(\n",
    "xaxis=dict(title='Weeks'),\n",
    "yaxis=dict(title='Modules')\n",
    ")\n",
    "\n",
    "# Update hovertemplate to show details in the legend\n",
    "fig.update_traces(hovertemplate='<b>%{text}</b><br>Start: %{x}<br>End: %{y}<br>Cost: $%{customdata[0]}')\n",
    "\n",
    "# Add cost annotation on the bars\n",
    "for module, end, cost in zip(modules, end_dates, costs):\n",
    "    fig.add_annotation(\n",
    "    x=end,\n",
    "    y=module,\n",
    "    text=f\"${cost}\",\n",
    "    font=dict(color='black', size=12),\n",
    "    showarrow=False,\n",
    "    align='center',\n",
    "    xshift=5\n",
    "    )\n",
    "\n",
    "# Show the Gantt chart\n",
    "fig.show()"
   ]
  }
 ],
 "metadata": {
  "kernelspec": {
   "display_name": "Python 3",
   "language": "python",
   "name": "python3"
  },
  "language_info": {
   "codemirror_mode": {
    "name": "ipython",
    "version": 3
   },
   "file_extension": ".py",
   "mimetype": "text/x-python",
   "name": "python",
   "nbconvert_exporter": "python",
   "pygments_lexer": "ipython3",
   "version": "3.10.7"
  },
  "orig_nbformat": 4
 },
 "nbformat": 4,
 "nbformat_minor": 2
}
